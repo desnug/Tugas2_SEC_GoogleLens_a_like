{
 "cells": [
  {
   "cell_type": "code",
   "execution_count": 133,
   "id": "9c3cfd55",
   "metadata": {},
   "outputs": [],
   "source": [
    "import os"
   ]
  },
  {
   "cell_type": "code",
   "execution_count": 134,
   "id": "cfb18359",
   "metadata": {},
   "outputs": [
    {
     "name": "stdout",
     "output_type": "stream",
     "text": [
      "['headphone', 'keyboard', 'mouse', 'pena', 'plastikbotol', 'random_test', 'ren_file.py', 'test.csv']\n"
     ]
    }
   ],
   "source": [
    "import warnings\n",
    "warnings.filterwarnings('ignore')\n",
    "# Get all the paths\n",
    "data_dir_list = os.listdir('dataset')\n",
    "print(data_dir_list)\n",
    "path, dirs, files = next(os.walk(\"dataset\"))\n",
    "file_count = len(files)\n",
    "# print(file_count)"
   ]
  },
  {
   "cell_type": "code",
   "execution_count": 135,
   "id": "0c952d54",
   "metadata": {},
   "outputs": [],
   "source": [
    "# Make new base directory\n",
    "original_dataset_dir = 'dataset'\n",
    "base_dir = 'data-benda'\n",
    "os.mkdir(base_dir)"
   ]
  },
  {
   "cell_type": "code",
   "execution_count": 136,
   "id": "9fad4ba4",
   "metadata": {},
   "outputs": [],
   "source": [
    "#create two folders (train and validation)\n",
    "train_dir = os.path.join(base_dir, 'train')\n",
    "os.mkdir(train_dir)\n",
    "\n",
    "validation_dir = os.path.join(base_dir, 'validation')\n",
    "os.mkdir(validation_dir)\n",
    "\n",
    "#Under train folder create five folders \n",
    "# (cloud, folly, plastikbotol, mouse, pena)\n",
    "\n",
    "train_cloud_dir = os.path.join(train_dir, 'headphone')\n",
    "os.mkdir(train_cloud_dir)\n",
    "\n",
    "train_keyboard_dir = os.path.join(train_dir, 'keyboard')\n",
    "os.mkdir(train_keyboard_dir)\n",
    "\n",
    "train_mouse_dir = os.path.join(train_dir, 'mouse')\n",
    "os.mkdir(train_mouse_dir)\n",
    "\n",
    "train_pena_dir = os.path.join(train_dir, 'pena')\n",
    "os.mkdir(train_pena_dir)\n",
    "\n",
    "train_plastikbotol_dir = os.path.join(train_dir, 'plastikbotol')\n",
    "os.mkdir(train_plastikbotol_dir)\n",
    "\n",
    "\n",
    "#Under validation folder create five folders \n",
    "# (cloud, folly, mouse, pena, plastikbotol)\n",
    "\n",
    "validation_cloud_dir = os.path.join(validation_dir, 'headphone')\n",
    "os.mkdir(validation_cloud_dir)\n",
    "\n",
    "validation_keyboard_dir = os.path.join(validation_dir, 'keyboard')\n",
    "os.mkdir(validation_keyboard_dir)\n",
    "\n",
    "validation_mouse_dir = os.path.join(validation_dir, 'mouse')\n",
    "os.mkdir(validation_mouse_dir)\n",
    "\n",
    "validation_pena_dir = os.path.join(validation_dir, 'pena')\n",
    "os.mkdir(validation_pena_dir)\n",
    "\n",
    "validation_plastikbotol_dir = os.path.join(validation_dir, 'plastikbotol')\n",
    "os.mkdir(validation_plastikbotol_dir)"
   ]
  },
  {
   "cell_type": "code",
   "execution_count": 137,
   "id": "58b76f52",
   "metadata": {},
   "outputs": [],
   "source": [
    "def split_data(SOURCE, TRAINING, VALIDATION, SPLIT_SIZE):\n",
    "    files = []\n",
    "    for filename in os.listdir(SOURCE):\n",
    "        file = SOURCE + filename\n",
    "        if os.path.getsize(file) > 0:\n",
    "            files.append(filename)\n",
    "        else:\n",
    "            print(filename + \" is zero length, so ignoring.\")\n",
    "\n",
    "    training_length = int(len(files) * SPLIT_SIZE)\n",
    "    valid_length = int(len(files) - training_length)\n",
    "    shuffled_set = random.sample(files, len(files))\n",
    "    training_set = shuffled_set[0:training_length]\n",
    "    valid_set = shuffled_set[training_length:]\n",
    "\n",
    "    for filename in training_set:\n",
    "        this_file = SOURCE + filename\n",
    "        destination = TRAINING + filename\n",
    "        copyfile(this_file, destination)\n",
    "\n",
    "    for filename in valid_set:\n",
    "        this_file = SOURCE + filename\n",
    "        destination = VALIDATION + filename\n",
    "        copyfile(this_file, destination)"
   ]
  },
  {
   "cell_type": "code",
   "execution_count": 138,
   "id": "ca07cf1f",
   "metadata": {},
   "outputs": [],
   "source": [
    "HEADPHONE_SOURCE_DIR = 'dataset/headphone/'\n",
    "TRAINING_HEADPHONE_DIR = 'data-benda/train/headphone/'\n",
    "VALID_HEADPHONE_DIR = 'data-benda/validation/headphone/'\n",
    "\n",
    "KEYBOARD_SOURCE_DIR = 'dataset/keyboard/'\n",
    "TRAINING_KEYBOARD_DIR = 'data-benda/train/keyboard/'\n",
    "VALID_KEYBOARD_DIR = 'data-benda/validation/keyboard/'\n",
    "\n",
    "MOUSE_SOURCE_DIR = 'dataset/mouse/'\n",
    "TRAINING_MOUSE_DIR = 'data-benda/train/mouse/'\n",
    "VALID_MOUSE_DIR = 'data-benda/validation/mouse/'\n",
    "\n",
    "PENA_SOURCE_DIR = 'dataset/pena/'\n",
    "TRAINING_PENA_DIR = 'data-benda/train/pena/'\n",
    "VALID_PENA_DIR = 'data-benda/validation/pena/'\n",
    "\n",
    "PLASTIKBOTOL_SOURCE_DIR = 'dataset/plastikbotol/'\n",
    "TRAINING_PLASTIKBOTOL_DIR = 'data-benda/train/plastikbotol/'\n",
    "VALID_PLASTIKBOTOL_DIR = 'data-benda/validation/plastikbotol/'"
   ]
  },
  {
   "cell_type": "code",
   "execution_count": 139,
   "id": "cd8a4ef6",
   "metadata": {},
   "outputs": [],
   "source": [
    "import os\n",
    "import random\n",
    "from shutil import copyfile\n",
    "\n",
    "split_size = .85\n",
    "\n",
    "split_data(HEADPHONE_SOURCE_DIR, TRAINING_HEADPHONE_DIR, VALID_HEADPHONE_DIR, split_size)\n",
    "split_data(KEYBOARD_SOURCE_DIR, TRAINING_KEYBOARD_DIR, VALID_KEYBOARD_DIR, split_size)\n",
    "split_data(MOUSE_SOURCE_DIR, TRAINING_MOUSE_DIR, VALID_MOUSE_DIR, split_size)\n",
    "split_data(PENA_SOURCE_DIR, TRAINING_PENA_DIR, VALID_PENA_DIR, split_size)\n",
    "split_data(PLASTIKBOTOL_SOURCE_DIR, TRAINING_PLASTIKBOTOL_DIR, VALID_PLASTIKBOTOL_DIR, split_size)"
   ]
  },
  {
   "cell_type": "code",
   "execution_count": 140,
   "id": "00d4ab37",
   "metadata": {},
   "outputs": [
    {
     "data": {
      "image/png": "[encoded data removed]",
      "text/plain": [
       "<Figure size 648x432 with 1 Axes>"
      ]
     },
     "metadata": {
      "needs_background": "light"
     },
     "output_type": "display_data"
    }
   ],
   "source": [
    "import matplotlib.pyplot as plt\n",
    "import seaborn as sns\n",
    "from matplotlib.image import imread\n",
    "import pathlib\n",
    "\n",
    "image_folder = ['headphone', 'keyboard', 'mouse', 'pena', 'plastikbotol']\n",
    "nimgs = {}\n",
    "for i in image_folder:\n",
    "    nimages = len(os.listdir('data-benda/train/'+i+'/'))\n",
    "    nimgs[i]=nimages\n",
    "plt.figure(figsize=(9, 6))\n",
    "plt.bar(range(len(nimgs)), list(nimgs.values()), align='center')\n",
    "plt.xticks(range(len(nimgs)), list(nimgs.keys()))\n",
    "plt.title('Distribution of different classes in Training Dataset')\n",
    "plt.show()"
   ]
  },
  {
   "cell_type": "code",
   "execution_count": 141,
   "id": "93582d29",
   "metadata": {},
   "outputs": [
    {
     "name": "stdout",
     "output_type": "stream",
     "text": [
      "Training headphone images are: 382\n",
      "Training keyboard images are: 356\n",
      "Training mouse images are: 434\n",
      "Training pena images are: 385\n",
      "Training plastikbotol images are: 343\n"
     ]
    }
   ],
   "source": [
    "for i in ['headphone', 'keyboard', 'mouse', 'pena', 'plastikbotol']:\n",
    "    print('Training {} images are: '.format(i)+str(len(os.listdir('data-benda/train/'+i+'/'))))"
   ]
  },
  {
   "cell_type": "code",
   "execution_count": 142,
   "id": "813b0283",
   "metadata": {},
   "outputs": [
    {
     "data": {
      "image/png": "[encoded data removed]",
      "text/plain": [
       "<Figure size 648x432 with 1 Axes>"
      ]
     },
     "metadata": {
      "needs_background": "light"
     },
     "output_type": "display_data"
    }
   ],
   "source": [
    "image_folder = ['headphone', 'keyboard', 'mouse', 'pena', 'plastikbotol']\n",
    "nimgs = {}\n",
    "for i in image_folder:\n",
    "    nimages = len(os.listdir('data-benda/validation/'+i+'/'))\n",
    "    nimgs[i]=nimages\n",
    "plt.figure(figsize=(9, 6))\n",
    "plt.bar(range(len(nimgs)), list(nimgs.values()), align='center')\n",
    "plt.xticks(range(len(nimgs)), list(nimgs.keys()))\n",
    "plt.title('Distribution of different classes in Validation Dataset')\n",
    "plt.show()"
   ]
  },
  {
   "cell_type": "code",
   "execution_count": 143,
   "id": "1a94f041",
   "metadata": {},
   "outputs": [
    {
     "name": "stdout",
     "output_type": "stream",
     "text": [
      "Valid headphone images are: 68\n",
      "Valid keyboard images are: 63\n",
      "Valid mouse images are: 77\n",
      "Valid pena images are: 68\n",
      "Valid plastikbotol images are: 61\n"
     ]
    }
   ],
   "source": [
    "for i in ['headphone', 'keyboard', 'mouse', 'pena', 'plastikbotol']:\n",
    "    print('Valid {} images are: '.format(i)+str(len(os.listdir('data-benda/validation/'+i+'/'))))"
   ]
  },
  {
   "cell_type": "code",
   "execution_count": 144,
   "id": "f5979b7e",
   "metadata": {},
   "outputs": [],
   "source": [
    "from tensorflow.keras.optimizers import Adam\n",
    "from tensorflow.keras.preprocessing.image import ImageDataGenerator\n",
    "from tensorflow.keras.layers import Conv2D, MaxPooling2D, Flatten, Dense, Dropout\n",
    "from tensorflow.keras.models import Sequential\n",
    "from tensorflow.keras.callbacks import EarlyStopping, ModelCheckpoint"
   ]
  },
  {
   "cell_type": "code",
   "execution_count": 145,
   "id": "2549d019",
   "metadata": {},
   "outputs": [],
   "source": [
    "img_width=224; img_height=224\n",
    "batch_size=30"
   ]
  },
  {
   "cell_type": "code",
   "execution_count": 146,
   "id": "3deb7e87",
   "metadata": {},
   "outputs": [
    {
     "name": "stdout",
     "output_type": "stream",
     "text": [
      "Found 1900 images belonging to 5 classes.\n"
     ]
    }
   ],
   "source": [
    "TRAINING_DIR = 'data-benda/train/'\n",
    "\n",
    "train_datagen = ImageDataGenerator(rescale = 1/255.0,\n",
    "                                   rotation_range=30,\n",
    "                                   zoom_range=0.4,\n",
    "                                   horizontal_flip=True)\n",
    "\n",
    "train_generator = train_datagen.flow_from_directory(TRAINING_DIR,\n",
    "                                                    batch_size=batch_size,\n",
    "                                                    class_mode='categorical',\n",
    "                                                    target_size=(img_height, img_width))"
   ]
  },
  {
   "cell_type": "code",
   "execution_count": 147,
   "id": "e2113460",
   "metadata": {},
   "outputs": [
    {
     "name": "stdout",
     "output_type": "stream",
     "text": [
      "Found 337 images belonging to 5 classes.\n"
     ]
    }
   ],
   "source": [
    "VALIDATION_DIR = 'data-benda/validation/'\n",
    "\n",
    "validation_datagen = ImageDataGenerator(rescale = 1/255.0)\n",
    "\n",
    "validation_generator = validation_datagen.flow_from_directory(VALIDATION_DIR,\n",
    "                                                              batch_size=batch_size,\n",
    "                                                              class_mode='categorical',\n",
    "                                                              target_size=(img_height, img_width)\n",
    "                                                             )"
   ]
  },
  {
   "cell_type": "code",
   "execution_count": 148,
   "id": "133e4027",
   "metadata": {},
   "outputs": [],
   "source": [
    "callbacks = EarlyStopping(monitor='val_loss', patience=5, verbose=1, mode='auto')\n",
    "# autosave best Model\n",
    "best_model_file = 'CNN_aug_best_weights.h5'\n",
    "best_model = ModelCheckpoint(best_model_file, monitor='val_acc', verbose = 1, save_best_only = True)"
   ]
  },
  {
   "cell_type": "code",
   "execution_count": 149,
   "id": "b6fef5f0",
   "metadata": {},
   "outputs": [
    {
     "name": "stdout",
     "output_type": "stream",
     "text": [
      "Model: \"sequential_4\"\n",
      "_________________________________________________________________\n",
      " Layer (type)                Output Shape              Param #   \n",
      "=================================================================\n",
      " conv2d_36 (Conv2D)          (None, 222, 222, 16)      448       \n",
      "                                                                 \n",
      " max_pooling2d_20 (MaxPoolin  (None, 111, 111, 16)     0         \n",
      " g2D)                                                            \n",
      "                                                                 \n",
      " conv2d_37 (Conv2D)          (None, 109, 109, 32)      4640      \n",
      "                                                                 \n",
      " max_pooling2d_21 (MaxPoolin  (None, 54, 54, 32)       0         \n",
      " g2D)                                                            \n",
      "                                                                 \n",
      " conv2d_38 (Conv2D)          (None, 52, 52, 64)        18496     \n",
      "                                                                 \n",
      " conv2d_39 (Conv2D)          (None, 50, 50, 64)        36928     \n",
      "                                                                 \n",
      " max_pooling2d_22 (MaxPoolin  (None, 25, 25, 64)       0         \n",
      " g2D)                                                            \n",
      "                                                                 \n",
      " conv2d_40 (Conv2D)          (None, 23, 23, 128)       73856     \n",
      "                                                                 \n",
      " conv2d_41 (Conv2D)          (None, 21, 21, 128)       147584    \n",
      "                                                                 \n",
      " max_pooling2d_23 (MaxPoolin  (None, 10, 10, 128)      0         \n",
      " g2D)                                                            \n",
      "                                                                 \n",
      " conv2d_42 (Conv2D)          (None, 8, 8, 256)         295168    \n",
      "                                                                 \n",
      " conv2d_43 (Conv2D)          (None, 6, 6, 256)         590080    \n",
      "                                                                 \n",
      " conv2d_44 (Conv2D)          (None, 4, 4, 256)         590080    \n",
      "                                                                 \n",
      " max_pooling2d_24 (MaxPoolin  (None, 2, 2, 256)        0         \n",
      " g2D)                                                            \n",
      "                                                                 \n",
      " flatten_4 (Flatten)         (None, 1024)              0         \n",
      "                                                                 \n",
      " dense_12 (Dense)            (None, 512)               524800    \n",
      "                                                                 \n",
      " dense_13 (Dense)            (None, 512)               262656    \n",
      "                                                                 \n",
      " dense_14 (Dense)            (None, 5)                 2565      \n",
      "                                                                 \n",
      "=================================================================\n",
      "Total params: 2,547,301\n",
      "Trainable params: 2,547,301\n",
      "Non-trainable params: 0\n",
      "_________________________________________________________________\n"
     ]
    }
   ],
   "source": [
    "model = Sequential([\n",
    "    Conv2D(16, (3, 3), activation='relu', input_shape=(img_height, img_width, 3)), MaxPooling2D(2, 2),\n",
    "    Conv2D(32, (3, 3), activation='relu'), MaxPooling2D(2, 2),\n",
    "    Conv2D(64, (3, 3), activation='relu'),\n",
    "    Conv2D(64, (3, 3), activation='relu'),\n",
    "    MaxPooling2D(2, 2),\n",
    "    Conv2D(128, (3, 3), activation='relu'),\n",
    "    Conv2D(128, (3, 3), activation='relu'),\n",
    "    MaxPooling2D(2, 2),\n",
    "    Conv2D(256, (3, 3), activation='relu'),\n",
    "    Conv2D(256, (3, 3), activation='relu'),\n",
    "    Conv2D(256, (3, 3), activation='relu'),\n",
    "    MaxPooling2D(2, 2),\n",
    "    Flatten(),\n",
    "    Dense(512, activation='relu'),\n",
    "    Dense(512, activation='relu'),\n",
    "    Dense(5, activation='softmax')\n",
    "])\n",
    "model.summary()"
   ]
  },
  {
   "cell_type": "code",
   "execution_count": 150,
   "id": "85e0a743",
   "metadata": {},
   "outputs": [],
   "source": [
    "model.compile(optimizer='Adam', \n",
    "              loss='categorical_crossentropy', \n",
    "              metrics =['accuracy'])"
   ]
  },
  {
   "cell_type": "code",
   "execution_count": 151,
   "id": "467ead23",
   "metadata": {},
   "outputs": [
    {
     "name": "stdout",
     "output_type": "stream",
     "text": [
      "Epoch 1/50\n",
      "64/64 [==============================] - ETA: 0s - loss: 1.5419 - accuracy: 0.2868WARNING:tensorflow:Can save best model only with val_acc available, skipping.\n",
      "64/64 [==============================] - 102s 2s/step - loss: 1.5419 - accuracy: 0.2868 - val_loss: 1.4556 - val_accuracy: 0.2908\n",
      "Epoch 2/50\n",
      "64/64 [==============================] - ETA: 0s - loss: 1.2975 - accuracy: 0.4553WARNING:tensorflow:Can save best model only with val_acc available, skipping.\n",
      "64/64 [==============================] - 88s 1s/step - loss: 1.2975 - accuracy: 0.4553 - val_loss: 1.1943 - val_accuracy: 0.4955\n",
      "Epoch 3/50\n",
      "64/64 [==============================] - ETA: 0s - loss: 1.2252 - accuracy: 0.4658WARNING:tensorflow:Can save best model only with val_acc available, skipping.\n",
      "64/64 [==============================] - 91s 1s/step - loss: 1.2252 - accuracy: 0.4658 - val_loss: 1.1722 - val_accuracy: 0.4985\n",
      "Epoch 4/50\n",
      "64/64 [==============================] - ETA: 0s - loss: 1.1358 - accuracy: 0.5326WARNING:tensorflow:Can save best model only with val_acc available, skipping.\n",
      "64/64 [==============================] - 89s 1s/step - loss: 1.1358 - accuracy: 0.5326 - val_loss: 1.0179 - val_accuracy: 0.5579\n",
      "Epoch 5/50\n",
      "64/64 [==============================] - ETA: 0s - loss: 1.0482 - accuracy: 0.5758WARNING:tensorflow:Can save best model only with val_acc available, skipping.\n",
      "64/64 [==============================] - 87s 1s/step - loss: 1.0482 - accuracy: 0.5758 - val_loss: 0.9974 - val_accuracy: 0.5697\n",
      "Epoch 6/50\n",
      "64/64 [==============================] - ETA: 0s - loss: 1.0298 - accuracy: 0.5942WARNING:tensorflow:Can save best model only with val_acc available, skipping.\n",
      "64/64 [==============================] - 85s 1s/step - loss: 1.0298 - accuracy: 0.5942 - val_loss: 0.9204 - val_accuracy: 0.6350\n",
      "Epoch 7/50\n",
      "64/64 [==============================] - ETA: 0s - loss: 0.9558 - accuracy: 0.6316WARNING:tensorflow:Can save best model only with val_acc available, skipping.\n",
      "64/64 [==============================] - 95s 1s/step - loss: 0.9558 - accuracy: 0.6316 - val_loss: 0.8341 - val_accuracy: 0.6528\n",
      "Epoch 8/50\n",
      "64/64 [==============================] - ETA: 0s - loss: 0.9475 - accuracy: 0.6289WARNING:tensorflow:Can save best model only with val_acc available, skipping.\n",
      "64/64 [==============================] - 93s 1s/step - loss: 0.9475 - accuracy: 0.6289 - val_loss: 0.8447 - val_accuracy: 0.6291\n",
      "Epoch 9/50\n",
      "64/64 [==============================] - ETA: 0s - loss: 0.9474 - accuracy: 0.6358WARNING:tensorflow:Can save best model only with val_acc available, skipping.\n",
      "64/64 [==============================] - 92s 1s/step - loss: 0.9474 - accuracy: 0.6358 - val_loss: 0.8688 - val_accuracy: 0.6439\n",
      "Epoch 10/50\n",
      "64/64 [==============================] - ETA: 0s - loss: 0.8705 - accuracy: 0.6742WARNING:tensorflow:Can save best model only with val_acc available, skipping.\n",
      "64/64 [==============================] - 93s 1s/step - loss: 0.8705 - accuracy: 0.6742 - val_loss: 0.8115 - val_accuracy: 0.6647\n",
      "Epoch 11/50\n",
      "64/64 [==============================] - ETA: 0s - loss: 0.8573 - accuracy: 0.6721WARNING:tensorflow:Can save best model only with val_acc available, skipping.\n",
      "64/64 [==============================] - 87s 1s/step - loss: 0.8573 - accuracy: 0.6721 - val_loss: 0.7790 - val_accuracy: 0.6855\n",
      "Epoch 12/50\n",
      "64/64 [==============================] - ETA: 0s - loss: 0.7940 - accuracy: 0.7000WARNING:tensorflow:Can save best model only with val_acc available, skipping.\n",
      "64/64 [==============================] - 86s 1s/step - loss: 0.7940 - accuracy: 0.7000 - val_loss: 0.7746 - val_accuracy: 0.7240\n",
      "Epoch 13/50\n",
      "64/64 [==============================] - ETA: 0s - loss: 0.7398 - accuracy: 0.7200WARNING:tensorflow:Can save best model only with val_acc available, skipping.\n",
      "64/64 [==============================] - 84s 1s/step - loss: 0.7398 - accuracy: 0.7200 - val_loss: 0.6729 - val_accuracy: 0.7389\n",
      "Epoch 14/50\n",
      "64/64 [==============================] - ETA: 0s - loss: 0.7325 - accuracy: 0.7205WARNING:tensorflow:Can save best model only with val_acc available, skipping.\n",
      "64/64 [==============================] - 85s 1s/step - loss: 0.7325 - accuracy: 0.7205 - val_loss: 0.7409 - val_accuracy: 0.7329\n",
      "Epoch 15/50\n",
      "64/64 [==============================] - ETA: 0s - loss: 0.6930 - accuracy: 0.7379WARNING:tensorflow:Can save best model only with val_acc available, skipping.\n",
      "64/64 [==============================] - 84s 1s/step - loss: 0.6930 - accuracy: 0.7379 - val_loss: 0.6049 - val_accuracy: 0.7774\n",
      "Epoch 16/50\n",
      "64/64 [==============================] - ETA: 0s - loss: 0.6860 - accuracy: 0.7416WARNING:tensorflow:Can save best model only with val_acc available, skipping.\n",
      "64/64 [==============================] - 84s 1s/step - loss: 0.6860 - accuracy: 0.7416 - val_loss: 0.6889 - val_accuracy: 0.7478\n",
      "Epoch 17/50\n",
      "64/64 [==============================] - ETA: 0s - loss: 0.6639 - accuracy: 0.7574WARNING:tensorflow:Can save best model only with val_acc available, skipping.\n",
      "64/64 [==============================] - 81s 1s/step - loss: 0.6639 - accuracy: 0.7574 - val_loss: 0.7064 - val_accuracy: 0.7240\n",
      "Epoch 18/50\n",
      "64/64 [==============================] - ETA: 0s - loss: 0.6325 - accuracy: 0.7647WARNING:tensorflow:Can save best model only with val_acc available, skipping.\n",
      "64/64 [==============================] - 77s 1s/step - loss: 0.6325 - accuracy: 0.7647 - val_loss: 0.6230 - val_accuracy: 0.7804\n",
      "Epoch 19/50\n",
      "64/64 [==============================] - ETA: 0s - loss: 0.5842 - accuracy: 0.7805WARNING:tensorflow:Can save best model only with val_acc available, skipping.\n",
      "64/64 [==============================] - 73s 1s/step - loss: 0.5842 - accuracy: 0.7805 - val_loss: 0.6223 - val_accuracy: 0.7685\n",
      "Epoch 20/50\n",
      "64/64 [==============================] - ETA: 0s - loss: 0.5855 - accuracy: 0.7921WARNING:tensorflow:Can save best model only with val_acc available, skipping.\n",
      "64/64 [==============================] - 73s 1s/step - loss: 0.5855 - accuracy: 0.7921 - val_loss: 0.6167 - val_accuracy: 0.7864\n",
      "Epoch 21/50\n",
      "64/64 [==============================] - ETA: 0s - loss: 0.5606 - accuracy: 0.7884WARNING:tensorflow:Can save best model only with val_acc available, skipping.\n",
      "64/64 [==============================] - 72s 1s/step - loss: 0.5606 - accuracy: 0.7884 - val_loss: 0.6810 - val_accuracy: 0.7596\n",
      "Epoch 22/50\n",
      "64/64 [==============================] - ETA: 0s - loss: 0.6113 - accuracy: 0.7868WARNING:tensorflow:Can save best model only with val_acc available, skipping.\n",
      "64/64 [==============================] - 72s 1s/step - loss: 0.6113 - accuracy: 0.7868 - val_loss: 0.5653 - val_accuracy: 0.7982\n",
      "Epoch 23/50\n",
      "64/64 [==============================] - ETA: 0s - loss: 0.5325 - accuracy: 0.8074WARNING:tensorflow:Can save best model only with val_acc available, skipping.\n",
      "64/64 [==============================] - 72s 1s/step - loss: 0.5325 - accuracy: 0.8074 - val_loss: 0.6023 - val_accuracy: 0.7893\n",
      "Epoch 24/50\n",
      "64/64 [==============================] - ETA: 0s - loss: 0.5929 - accuracy: 0.7863WARNING:tensorflow:Can save best model only with val_acc available, skipping.\n",
      "64/64 [==============================] - 72s 1s/step - loss: 0.5929 - accuracy: 0.7863 - val_loss: 0.5360 - val_accuracy: 0.8101\n",
      "Epoch 25/50\n",
      "64/64 [==============================] - ETA: 0s - loss: 0.5342 - accuracy: 0.8026WARNING:tensorflow:Can save best model only with val_acc available, skipping.\n",
      "64/64 [==============================] - 73s 1s/step - loss: 0.5342 - accuracy: 0.8026 - val_loss: 0.5400 - val_accuracy: 0.7982\n",
      "Epoch 26/50\n",
      "64/64 [==============================] - ETA: 0s - loss: 0.4888 - accuracy: 0.8284WARNING:tensorflow:Can save best model only with val_acc available, skipping.\n",
      "64/64 [==============================] - 73s 1s/step - loss: 0.4888 - accuracy: 0.8284 - val_loss: 0.5347 - val_accuracy: 0.8101\n",
      "Epoch 27/50\n",
      "64/64 [==============================] - ETA: 0s - loss: 0.4791 - accuracy: 0.8247WARNING:tensorflow:Can save best model only with val_acc available, skipping.\n",
      "64/64 [==============================] - 72s 1s/step - loss: 0.4791 - accuracy: 0.8247 - val_loss: 0.7480 - val_accuracy: 0.7092\n",
      "Epoch 28/50\n",
      "64/64 [==============================] - ETA: 0s - loss: 0.4800 - accuracy: 0.8232WARNING:tensorflow:Can save best model only with val_acc available, skipping.\n",
      "64/64 [==============================] - 72s 1s/step - loss: 0.4800 - accuracy: 0.8232 - val_loss: 0.5769 - val_accuracy: 0.8101\n",
      "Epoch 29/50\n",
      "64/64 [==============================] - ETA: 0s - loss: 0.4838 - accuracy: 0.8242WARNING:tensorflow:Can save best model only with val_acc available, skipping.\n",
      "64/64 [==============================] - 72s 1s/step - loss: 0.4838 - accuracy: 0.8242 - val_loss: 0.5139 - val_accuracy: 0.8101\n",
      "Epoch 30/50\n",
      "64/64 [==============================] - ETA: 0s - loss: 0.4278 - accuracy: 0.8453WARNING:tensorflow:Can save best model only with val_acc available, skipping.\n",
      "64/64 [==============================] - 72s 1s/step - loss: 0.4278 - accuracy: 0.8453 - val_loss: 0.6590 - val_accuracy: 0.7685\n",
      "Epoch 31/50\n",
      "64/64 [==============================] - ETA: 0s - loss: 0.4220 - accuracy: 0.8421WARNING:tensorflow:Can save best model only with val_acc available, skipping.\n",
      "64/64 [==============================] - 72s 1s/step - loss: 0.4220 - accuracy: 0.8421 - val_loss: 0.7387 - val_accuracy: 0.7953\n",
      "Epoch 32/50\n",
      "64/64 [==============================] - ETA: 0s - loss: 0.4189 - accuracy: 0.8421WARNING:tensorflow:Can save best model only with val_acc available, skipping.\n",
      "64/64 [==============================] - 72s 1s/step - loss: 0.4189 - accuracy: 0.8421 - val_loss: 0.4909 - val_accuracy: 0.8160\n",
      "Epoch 33/50\n",
      "64/64 [==============================] - ETA: 0s - loss: 0.3988 - accuracy: 0.8600WARNING:tensorflow:Can save best model only with val_acc available, skipping.\n",
      "64/64 [==============================] - 73s 1s/step - loss: 0.3988 - accuracy: 0.8600 - val_loss: 0.6571 - val_accuracy: 0.8101\n",
      "Epoch 34/50\n",
      "64/64 [==============================] - ETA: 0s - loss: 0.4180 - accuracy: 0.8500WARNING:tensorflow:Can save best model only with val_acc available, skipping.\n",
      "64/64 [==============================] - 72s 1s/step - loss: 0.4180 - accuracy: 0.8500 - val_loss: 0.4933 - val_accuracy: 0.8309\n",
      "Epoch 35/50\n",
      "64/64 [==============================] - ETA: 0s - loss: 0.3734 - accuracy: 0.8700WARNING:tensorflow:Can save best model only with val_acc available, skipping.\n",
      "64/64 [==============================] - 79s 1s/step - loss: 0.3734 - accuracy: 0.8700 - val_loss: 0.5942 - val_accuracy: 0.8042\n",
      "Epoch 36/50\n",
      "64/64 [==============================] - ETA: 0s - loss: 0.3799 - accuracy: 0.8589WARNING:tensorflow:Can save best model only with val_acc available, skipping.\n",
      "64/64 [==============================] - 95s 1s/step - loss: 0.3799 - accuracy: 0.8589 - val_loss: 0.4977 - val_accuracy: 0.8546\n",
      "Epoch 37/50\n",
      "64/64 [==============================] - ETA: 0s - loss: 0.3455 - accuracy: 0.8774WARNING:tensorflow:Can save best model only with val_acc available, skipping.\n",
      "64/64 [==============================] - 95s 1s/step - loss: 0.3455 - accuracy: 0.8774 - val_loss: 0.6904 - val_accuracy: 0.8249\n",
      "Epoch 38/50\n",
      "64/64 [==============================] - ETA: 0s - loss: 0.3886 - accuracy: 0.8637WARNING:tensorflow:Can save best model only with val_acc available, skipping.\n",
      "64/64 [==============================] - 93s 1s/step - loss: 0.3886 - accuracy: 0.8637 - val_loss: 0.6577 - val_accuracy: 0.7715\n",
      "Epoch 39/50\n",
      "64/64 [==============================] - ETA: 0s - loss: 0.3897 - accuracy: 0.8568WARNING:tensorflow:Can save best model only with val_acc available, skipping.\n",
      "64/64 [==============================] - 93s 1s/step - loss: 0.3897 - accuracy: 0.8568 - val_loss: 0.6073 - val_accuracy: 0.8220\n",
      "Epoch 40/50\n",
      "64/64 [==============================] - ETA: 0s - loss: 0.3440 - accuracy: 0.8763WARNING:tensorflow:Can save best model only with val_acc available, skipping.\n",
      "64/64 [==============================] - 91s 1s/step - loss: 0.3440 - accuracy: 0.8763 - val_loss: 0.5097 - val_accuracy: 0.8457\n",
      "Epoch 41/50\n",
      "64/64 [==============================] - ETA: 0s - loss: 0.3053 - accuracy: 0.8779WARNING:tensorflow:Can save best model only with val_acc available, skipping.\n",
      "64/64 [==============================] - 102s 2s/step - loss: 0.3053 - accuracy: 0.8779 - val_loss: 0.4893 - val_accuracy: 0.8576\n",
      "Epoch 42/50\n",
      "64/64 [==============================] - ETA: 0s - loss: 0.3149 - accuracy: 0.8947WARNING:tensorflow:Can save best model only with val_acc available, skipping.\n",
      "64/64 [==============================] - 95s 1s/step - loss: 0.3149 - accuracy: 0.8947 - val_loss: 0.5353 - val_accuracy: 0.8309\n",
      "Epoch 43/50\n",
      "64/64 [==============================] - ETA: 0s - loss: 0.3642 - accuracy: 0.8684WARNING:tensorflow:Can save best model only with val_acc available, skipping.\n",
      "64/64 [==============================] - 87s 1s/step - loss: 0.3642 - accuracy: 0.8684 - val_loss: 0.5370 - val_accuracy: 0.8249\n",
      "Epoch 44/50\n",
      "64/64 [==============================] - ETA: 0s - loss: 0.3281 - accuracy: 0.8821WARNING:tensorflow:Can save best model only with val_acc available, skipping.\n",
      "64/64 [==============================] - 85s 1s/step - loss: 0.3281 - accuracy: 0.8821 - val_loss: 0.5409 - val_accuracy: 0.8368\n",
      "Epoch 45/50\n",
      "64/64 [==============================] - ETA: 0s - loss: 0.3275 - accuracy: 0.8837WARNING:tensorflow:Can save best model only with val_acc available, skipping.\n",
      "64/64 [==============================] - 86s 1s/step - loss: 0.3275 - accuracy: 0.8837 - val_loss: 0.5269 - val_accuracy: 0.8309\n",
      "Epoch 46/50\n",
      "64/64 [==============================] - ETA: 0s - loss: 0.3420 - accuracy: 0.8805WARNING:tensorflow:Can save best model only with val_acc available, skipping.\n",
      "64/64 [==============================] - 85s 1s/step - loss: 0.3420 - accuracy: 0.8805 - val_loss: 0.4279 - val_accuracy: 0.8516\n",
      "Epoch 47/50\n",
      "64/64 [==============================] - ETA: 0s - loss: 0.2930 - accuracy: 0.8905WARNING:tensorflow:Can save best model only with val_acc available, skipping.\n",
      "64/64 [==============================] - 87s 1s/step - loss: 0.2930 - accuracy: 0.8905 - val_loss: 0.4606 - val_accuracy: 0.8605\n",
      "Epoch 48/50\n",
      "64/64 [==============================] - ETA: 0s - loss: 0.2925 - accuracy: 0.8963WARNING:tensorflow:Can save best model only with val_acc available, skipping.\n",
      "64/64 [==============================] - 85s 1s/step - loss: 0.2925 - accuracy: 0.8963 - val_loss: 0.5964 - val_accuracy: 0.8309\n",
      "Epoch 49/50\n",
      "64/64 [==============================] - ETA: 0s - loss: 0.2796 - accuracy: 0.9053WARNING:tensorflow:Can save best model only with val_acc available, skipping.\n",
      "64/64 [==============================] - 89s 1s/step - loss: 0.2796 - accuracy: 0.9053 - val_loss: 0.4609 - val_accuracy: 0.8398\n",
      "Epoch 50/50\n",
      "64/64 [==============================] - ETA: 0s - loss: 0.2765 - accuracy: 0.9005WARNING:tensorflow:Can save best model only with val_acc available, skipping.\n",
      "64/64 [==============================] - 96s 1s/step - loss: 0.2765 - accuracy: 0.9005 - val_loss: 0.5521 - val_accuracy: 0.8457\n"
     ]
    }
   ],
   "source": [
    "history = model.fit_generator(train_generator,\n",
    "                              epochs=50,\n",
    "                              verbose=1,\n",
    "                              validation_data=validation_generator,\n",
    "                              callbacks = [best_model]\n",
    "                              )"
   ]
  },
  {
   "cell_type": "code",
   "execution_count": 152,
   "id": "f5a38866",
   "metadata": {},
   "outputs": [
    {
     "data": {
      "image/png": "[encoded data removed]",
      "text/plain": [
       "<Figure size 1008x504 with 1 Axes>"
      ]
     },
     "metadata": {
      "needs_background": "light"
     },
     "output_type": "display_data"
    }
   ],
   "source": [
    "acc=history.history['accuracy']\n",
    "val_acc=history.history['val_accuracy']\n",
    "loss=history.history['loss']\n",
    "val_loss=history.history['val_loss']\n",
    "\n",
    "epochs=range(len(acc))\n",
    "\n",
    "fig = plt.figure(figsize=(14,7))\n",
    "plt.plot(epochs, acc, 'r', label=\"Training Accuracy\")\n",
    "plt.plot(epochs, val_acc, 'b', label=\"Validation Accuracy\")\n",
    "plt.xlabel('Epoch')\n",
    "plt.ylabel('Accuracy')\n",
    "plt.title('Training and validation accuracy')\n",
    "plt.legend(loc='lower right')\n",
    "plt.show()"
   ]
  },
  {
   "cell_type": "code",
   "execution_count": 153,
   "id": "6fa78d9f",
   "metadata": {},
   "outputs": [
    {
     "data": {
      "text/plain": [
       "Text(0.5, 1.0, 'Training and validation loss')"
      ]
     },
     "execution_count": 153,
     "metadata": {},
     "output_type": "execute_result"
    },
    {
     "data": {
      "image/png": "[encoded data removed]",
      "text/plain": [
       "<Figure size 1008x504 with 1 Axes>"
      ]
     },
     "metadata": {
      "needs_background": "light"
     },
     "output_type": "display_data"
    }
   ],
   "source": [
    "fig2 = plt.figure(figsize=(14,7))\n",
    "plt.plot(epochs, loss, 'r', label=\"Training Loss\")\n",
    "plt.plot(epochs, val_loss, 'b', label=\"Validation Loss\")\n",
    "plt.legend(loc='upper right')\n",
    "plt.xlabel('Epoch')\n",
    "plt.ylabel('Loss')\n",
    "plt.title('Training and validation loss')"
   ]
  },
  {
   "cell_type": "code",
   "execution_count": 154,
   "id": "cb30e92d",
   "metadata": {},
   "outputs": [],
   "source": [
    "## Test Performance on Test Data\n",
    "import pandas as pd\n",
    "import numpy as np\n",
    "from keras.preprocessing.image import load_img, img_to_array\n",
    "\n",
    "def preprocess_image(path):\n",
    "    img = load_img(path, target_size = (img_height, img_width))\n",
    "    a = img_to_array(img)\n",
    "    a = np.expand_dims(a, axis = 0)\n",
    "    a /= 255.\n",
    "    return a"
   ]
  },
  {
   "cell_type": "code",
   "execution_count": 155,
   "id": "efdca0d1",
   "metadata": {},
   "outputs": [],
   "source": [
    "# Read Test Images Dir and their labels\n",
    "test_images_dir = 'dataset/random_test/'\n",
    "test_df = pd.read_csv('dataset/test.csv')\n",
    "\n",
    "# put them in a list\n",
    "test_dfToList = test_df['Image_id'].tolist()\n",
    "test_ids = [str(item) for item in test_dfToList]\n",
    "\n",
    "test_images = [test_images_dir+item for item in test_ids]\n",
    "test_preprocessed_images = np.vstack([preprocess_image(fn) for fn in test_images])\n",
    "np.save('test_preproc_CNN.npy', test_preprocessed_images)"
   ]
  },
  {
   "cell_type": "code",
   "execution_count": 156,
   "id": "3ba14ae4",
   "metadata": {},
   "outputs": [
    {
     "name": "stdout",
     "output_type": "stream",
     "text": [
      "35/35 [==============================] - 1s 16ms/step\n",
      "[0 0 0 0 0 2 0 1 1 1 1 1 1 1 2 2 2 2 2 0 2 3 3 3 3 3 3 3 4 4 4 4 4 4 4]\n"
     ]
    }
   ],
   "source": [
    "array = model.predict(test_preprocessed_images, batch_size=1, verbose=1)\n",
    "answer = np.argmax(array, axis=1)\n",
    "print(answer)"
   ]
  },
  {
   "cell_type": "code",
   "execution_count": 157,
   "id": "d8f11183",
   "metadata": {},
   "outputs": [
    {
     "name": "stdout",
     "output_type": "stream",
     "text": [
      "0     0\n",
      "1     0\n",
      "2     0\n",
      "3     0\n",
      "4     0\n",
      "5     0\n",
      "6     0\n",
      "7     1\n",
      "8     1\n",
      "9     1\n",
      "10    1\n",
      "11    1\n",
      "12    1\n",
      "13    1\n",
      "14    2\n",
      "15    2\n",
      "16    2\n",
      "17    2\n",
      "18    2\n",
      "19    2\n",
      "20    2\n",
      "21    3\n",
      "22    3\n",
      "23    3\n",
      "24    3\n",
      "25    3\n",
      "26    3\n",
      "27    3\n",
      "28    4\n",
      "29    4\n",
      "30    4\n",
      "31    4\n",
      "32    4\n",
      "33    4\n",
      "34    4\n",
      "Name: labels, dtype: int64\n"
     ]
    }
   ],
   "source": [
    "test_df = pd.read_csv('dataset/test.csv')\n",
    "y_true = test_df['labels']\n",
    "y_pred = array\n",
    "print(y_true)"
   ]
  },
  {
   "cell_type": "code",
   "execution_count": 158,
   "id": "ed065c50",
   "metadata": {},
   "outputs": [],
   "source": [
    "from sklearn.metrics import log_loss\n",
    "loss = log_loss(y_true, y_pred, eps=1e-15, normalize=True, sample_weight=None, labels=None)"
   ]
  },
  {
   "cell_type": "code",
   "execution_count": 159,
   "id": "bd7f8a72",
   "metadata": {},
   "outputs": [
    {
     "data": {
      "text/plain": [
       "array([[6, 0, 1, 0, 0],\n",
       "       [0, 7, 0, 0, 0],\n",
       "       [1, 0, 6, 0, 0],\n",
       "       [0, 0, 0, 7, 0],\n",
       "       [0, 0, 0, 0, 7]], dtype=int64)"
      ]
     },
     "execution_count": 159,
     "metadata": {},
     "output_type": "execute_result"
    }
   ],
   "source": [
    "from sklearn.metrics import confusion_matrix\n",
    "conf_mat = confusion_matrix(y_true, answer)\n",
    "conf_mat"
   ]
  },
  {
   "cell_type": "code",
   "execution_count": 160,
   "id": "24e8b00e",
   "metadata": {},
   "outputs": [],
   "source": [
    "train_dir = 'data-benda/train/'\n",
    "classes = os.listdir(train_dir)"
   ]
  },
  {
   "cell_type": "code",
   "execution_count": 161,
   "id": "330fe7ff",
   "metadata": {},
   "outputs": [
    {
     "name": "stdout",
     "output_type": "stream",
     "text": [
      "Model tersimpan\n"
     ]
    }
   ],
   "source": [
    "#serialize model to YAML\n",
    "model_yaml = model.to_json()\n",
    "with open(\"model6_saved.yaml\",\"w\") as yaml_file:\n",
    "    yaml_file.write(model_yaml)\n",
    "#serialize weight to HDF5\n",
    "model.save_weights('model6_saved.h5')\n",
    "print(\"Model tersimpan\")"
   ]
  },
  {
   "cell_type": "code",
   "execution_count": null,
   "id": "48813f5f",
   "metadata": {},
   "outputs": [],
   "source": []
  }
 ],
 "metadata": {
  "kernelspec": {
   "display_name": "Python 3",
   "language": "python",
   "name": "python3"
  },
  "language_info": {
   "codemirror_mode": {
    "name": "ipython",
    "version": 3
   },
   "file_extension": ".py",
   "mimetype": "text/x-python",
   "name": "python",
   "nbconvert_exporter": "python",
   "pygments_lexer": "ipython3",
   "version": "3.8.8"
  }
 },
 "nbformat": 4,
 "nbformat_minor": 5
}
